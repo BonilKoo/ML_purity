{
 "cells": [
  {
   "cell_type": "markdown",
   "metadata": {},
   "source": [
    "## Import packages and functions"
   ]
  },
  {
   "cell_type": "code",
   "execution_count": 1,
   "metadata": {},
   "outputs": [],
   "source": [
    "import pandas as pd\n",
    "import joblib\n",
    "from keras.models import load_model"
   ]
  },
  {
   "cell_type": "markdown",
   "metadata": {},
   "source": [
    "## Load the input data"
   ]
  },
  {
   "cell_type": "code",
   "execution_count": 2,
   "metadata": {},
   "outputs": [],
   "source": [
    "example_data = pd.read_csv('example_data.tsv', sep='\\t', index_col='Sample ID')\n",
    "X = example_data.values"
   ]
  },
  {
   "cell_type": "markdown",
   "metadata": {},
   "source": [
    "## Process the input data"
   ]
  },
  {
   "cell_type": "code",
   "execution_count": 3,
   "metadata": {},
   "outputs": [],
   "source": [
    "Scaler = joblib.load('../models/Scaler/Scaler.joblib')\n",
    "X_scaled = Scaler.transform(X)"
   ]
  },
  {
   "cell_type": "markdown",
   "metadata": {},
   "source": [
    "## Load the models you want to use"
   ]
  },
  {
   "cell_type": "code",
   "execution_count": 4,
   "metadata": {},
   "outputs": [],
   "source": [
    "Ridge = joblib.load('../models/Ridge/Ridge.joblib')\n",
    "RFR = joblib.load('../models/RFR/RFR.joblib')\n",
    "MLP = load_model('../models/MLP/MLP.h5')"
   ]
  },
  {
   "cell_type": "markdown",
   "metadata": {},
   "source": [
    "## Run the models"
   ]
  },
  {
   "cell_type": "code",
   "execution_count": 5,
   "metadata": {},
   "outputs": [],
   "source": [
    "Ridge_purity = Ridge.predict(X_scaled)\n",
    "RFR_purity = RFR.predict(X)\n",
    "MLP_purity = MLP.predict(X_scaled).reshape(-1)"
   ]
  },
  {
   "cell_type": "markdown",
   "metadata": {},
   "source": [
    "## You can identify the result as a data frame"
   ]
  },
  {
   "cell_type": "code",
   "execution_count": 6,
   "metadata": {},
   "outputs": [
    {
     "data": {
      "text/html": [
       "<div>\n",
       "<style scoped>\n",
       "    .dataframe tbody tr th:only-of-type {\n",
       "        vertical-align: middle;\n",
       "    }\n",
       "\n",
       "    .dataframe tbody tr th {\n",
       "        vertical-align: top;\n",
       "    }\n",
       "\n",
       "    .dataframe thead th {\n",
       "        text-align: right;\n",
       "    }\n",
       "</style>\n",
       "<table border=\"1\" class=\"dataframe\">\n",
       "  <thead>\n",
       "    <tr style=\"text-align: right;\">\n",
       "      <th></th>\n",
       "      <th>Ridge</th>\n",
       "      <th>RFR</th>\n",
       "      <th>MLP</th>\n",
       "    </tr>\n",
       "    <tr>\n",
       "      <th>Sample ID</th>\n",
       "      <th></th>\n",
       "      <th></th>\n",
       "      <th></th>\n",
       "    </tr>\n",
       "  </thead>\n",
       "  <tbody>\n",
       "    <tr>\n",
       "      <th>Sample_1</th>\n",
       "      <td>0.920105</td>\n",
       "      <td>0.914423</td>\n",
       "      <td>0.923452</td>\n",
       "    </tr>\n",
       "    <tr>\n",
       "      <th>Sample_2</th>\n",
       "      <td>0.652405</td>\n",
       "      <td>0.697304</td>\n",
       "      <td>0.667602</td>\n",
       "    </tr>\n",
       "    <tr>\n",
       "      <th>Sample_3</th>\n",
       "      <td>0.890411</td>\n",
       "      <td>0.868287</td>\n",
       "      <td>0.870883</td>\n",
       "    </tr>\n",
       "    <tr>\n",
       "      <th>Sample_4</th>\n",
       "      <td>0.789208</td>\n",
       "      <td>0.702283</td>\n",
       "      <td>0.794525</td>\n",
       "    </tr>\n",
       "    <tr>\n",
       "      <th>Sample_5</th>\n",
       "      <td>0.591327</td>\n",
       "      <td>0.629323</td>\n",
       "      <td>0.569975</td>\n",
       "    </tr>\n",
       "    <tr>\n",
       "      <th>Sample_6</th>\n",
       "      <td>0.486609</td>\n",
       "      <td>0.464711</td>\n",
       "      <td>0.467527</td>\n",
       "    </tr>\n",
       "  </tbody>\n",
       "</table>\n",
       "</div>"
      ],
      "text/plain": [
       "              Ridge       RFR       MLP\n",
       "Sample ID                              \n",
       "Sample_1   0.920105  0.914423  0.923452\n",
       "Sample_2   0.652405  0.697304  0.667602\n",
       "Sample_3   0.890411  0.868287  0.870883\n",
       "Sample_4   0.789208  0.702283  0.794525\n",
       "Sample_5   0.591327  0.629323  0.569975\n",
       "Sample_6   0.486609  0.464711  0.467527"
      ]
     },
     "execution_count": 6,
     "metadata": {},
     "output_type": "execute_result"
    }
   ],
   "source": [
    "pd.DataFrame(data=[Ridge_purity, RFR_purity, MLP_purity], index=['Ridge', 'RFR', 'MLP'], columns=example_data.index).T"
   ]
  },
  {
   "cell_type": "markdown",
   "metadata": {},
   "source": [
    "## Also, you can save the result"
   ]
  },
  {
   "cell_type": "code",
   "execution_count": 7,
   "metadata": {},
   "outputs": [],
   "source": [
    "result = pd.DataFrame(data=[Ridge_purity, RFR_purity, MLP_purity], index=['Ridge', 'RFR', 'MLP'], columns=example_data.index).T\n",
    "result.to_csv('example_result.tsv', sep='\\t')"
   ]
  },
  {
   "cell_type": "code",
   "execution_count": null,
   "metadata": {},
   "outputs": [],
   "source": []
  },
  {
   "cell_type": "markdown",
   "metadata": {},
   "source": [
    "# ※ When using top-ranked gene set"
   ]
  },
  {
   "cell_type": "markdown",
   "metadata": {},
   "source": [
    "## Load gene list"
   ]
  },
  {
   "cell_type": "code",
   "execution_count": 8,
   "metadata": {},
   "outputs": [
    {
     "data": {
      "text/html": [
       "<div>\n",
       "<style scoped>\n",
       "    .dataframe tbody tr th:only-of-type {\n",
       "        vertical-align: middle;\n",
       "    }\n",
       "\n",
       "    .dataframe tbody tr th {\n",
       "        vertical-align: top;\n",
       "    }\n",
       "\n",
       "    .dataframe thead th {\n",
       "        text-align: right;\n",
       "    }\n",
       "</style>\n",
       "<table border=\"1\" class=\"dataframe\">\n",
       "  <thead>\n",
       "    <tr style=\"text-align: right;\">\n",
       "      <th></th>\n",
       "      <th>Ensembl gene id</th>\n",
       "      <th>Gene symbol</th>\n",
       "    </tr>\n",
       "  </thead>\n",
       "  <tbody>\n",
       "    <tr>\n",
       "      <th>0</th>\n",
       "      <td>ENSG00000147443.11</td>\n",
       "      <td>DOK2</td>\n",
       "    </tr>\n",
       "    <tr>\n",
       "      <th>1</th>\n",
       "      <td>ENSG00000100368.12</td>\n",
       "      <td>CSF2RB</td>\n",
       "    </tr>\n",
       "    <tr>\n",
       "      <th>2</th>\n",
       "      <td>ENSG00000158714.9</td>\n",
       "      <td>SLAMF8</td>\n",
       "    </tr>\n",
       "    <tr>\n",
       "      <th>3</th>\n",
       "      <td>ENSG00000110324.8</td>\n",
       "      <td>IL10RA</td>\n",
       "    </tr>\n",
       "    <tr>\n",
       "      <th>4</th>\n",
       "      <td>ENSG00000143119.11</td>\n",
       "      <td>CD53</td>\n",
       "    </tr>\n",
       "  </tbody>\n",
       "</table>\n",
       "</div>"
      ],
      "text/plain": [
       "      Ensembl gene id Gene symbol\n",
       "0  ENSG00000147443.11        DOK2\n",
       "1  ENSG00000100368.12      CSF2RB\n",
       "2   ENSG00000158714.9      SLAMF8\n",
       "3   ENSG00000110324.8      IL10RA\n",
       "4  ENSG00000143119.11        CD53"
      ]
     },
     "execution_count": 8,
     "metadata": {},
     "output_type": "execute_result"
    }
   ],
   "source": [
    "top100_gene_list = pd.read_csv('../GeneList/Top100.txt', sep='\\t', header=None)\n",
    "top100_gene_list.columns = ['Ensembl gene id', 'Gene symbol']\n",
    "top100_gene_list.head()"
   ]
  },
  {
   "cell_type": "code",
   "execution_count": 9,
   "metadata": {},
   "outputs": [],
   "source": [
    "top30_gene_list = pd.read_csv('../GeneList/Top30.txt', sep='\\t', header=None)\n",
    "top30_gene_list.columns = ['Ensembl gene id', 'Gene symbol']"
   ]
  },
  {
   "cell_type": "markdown",
   "metadata": {},
   "source": [
    "## Extract top genes from original input data"
   ]
  },
  {
   "cell_type": "code",
   "execution_count": 10,
   "metadata": {},
   "outputs": [],
   "source": [
    "# example_data = pd.read_csv('example_data.tsv', sep='\\t', index_col='Sample ID')\n",
    "example_data_top100 = example_data[list(top100_gene_list['Ensembl gene id'])]\n",
    "X_top100 = example_data_top100.values\n",
    "\n",
    "example_data_top30 = example_data[list(top30_gene_list['Ensembl gene id'])]\n",
    "X_top30 = example_data_top30.values"
   ]
  },
  {
   "cell_type": "markdown",
   "metadata": {},
   "source": [
    "## Process the data"
   ]
  },
  {
   "cell_type": "code",
   "execution_count": 11,
   "metadata": {},
   "outputs": [],
   "source": [
    "Scaler_top100 = joblib.load('../models/Scaler/Scaler_top100.joblib')\n",
    "X_top100_scaled = Scaler_top100.transform(X_top100)\n",
    "\n",
    "Scaler_top30 = joblib.load('../models/Scaler/Scaler_top30.joblib')\n",
    "X_top30_scaled = Scaler_top30.transform(X_top30)"
   ]
  },
  {
   "cell_type": "markdown",
   "metadata": {},
   "source": [
    "## Load the models you want to use"
   ]
  },
  {
   "cell_type": "code",
   "execution_count": 12,
   "metadata": {},
   "outputs": [],
   "source": [
    "Ridge_top100 = joblib.load('../models/Ridge/Ridge_top100.joblib')\n",
    "MLP_top100 = load_model('../models/MLP/MLP_top100.h5')\n",
    "\n",
    "RFR_top30 = joblib.load('../models/RFR/RFR_top30.joblib')\n",
    "MLP_top30 = load_model('../models/MLP/MLP_top30.h5')"
   ]
  },
  {
   "cell_type": "markdown",
   "metadata": {},
   "source": [
    "## Run the models"
   ]
  },
  {
   "cell_type": "code",
   "execution_count": 13,
   "metadata": {},
   "outputs": [],
   "source": [
    "Ridge_top100_purity = Ridge_top100.predict(X_top100_scaled)\n",
    "MLP_top100_purity = MLP_top100.predict(X_top100_scaled).reshape(-1)\n",
    "\n",
    "RFR_top30_purity = RFR_top30.predict(X_top30)\n",
    "MLP_top30_purity = MLP_top30.predict(X_top30_scaled).reshape(-1)"
   ]
  },
  {
   "cell_type": "markdown",
   "metadata": {},
   "source": [
    "## You can identify the result as a data frame"
   ]
  },
  {
   "cell_type": "code",
   "execution_count": 14,
   "metadata": {},
   "outputs": [
    {
     "data": {
      "text/html": [
       "<div>\n",
       "<style scoped>\n",
       "    .dataframe tbody tr th:only-of-type {\n",
       "        vertical-align: middle;\n",
       "    }\n",
       "\n",
       "    .dataframe tbody tr th {\n",
       "        vertical-align: top;\n",
       "    }\n",
       "\n",
       "    .dataframe thead th {\n",
       "        text-align: right;\n",
       "    }\n",
       "</style>\n",
       "<table border=\"1\" class=\"dataframe\">\n",
       "  <thead>\n",
       "    <tr style=\"text-align: right;\">\n",
       "      <th></th>\n",
       "      <th>Ridge_top100</th>\n",
       "      <th>MLP_top100</th>\n",
       "      <th>RFR_top30</th>\n",
       "      <th>MLP_top30</th>\n",
       "    </tr>\n",
       "    <tr>\n",
       "      <th>Sample ID</th>\n",
       "      <th></th>\n",
       "      <th></th>\n",
       "      <th></th>\n",
       "      <th></th>\n",
       "    </tr>\n",
       "  </thead>\n",
       "  <tbody>\n",
       "    <tr>\n",
       "      <th>Sample_1</th>\n",
       "      <td>0.877812</td>\n",
       "      <td>0.893113</td>\n",
       "      <td>0.911913</td>\n",
       "      <td>0.920209</td>\n",
       "    </tr>\n",
       "    <tr>\n",
       "      <th>Sample_2</th>\n",
       "      <td>0.667252</td>\n",
       "      <td>0.703523</td>\n",
       "      <td>0.680491</td>\n",
       "      <td>0.729512</td>\n",
       "    </tr>\n",
       "    <tr>\n",
       "      <th>Sample_3</th>\n",
       "      <td>0.888481</td>\n",
       "      <td>0.842372</td>\n",
       "      <td>0.881929</td>\n",
       "      <td>0.892949</td>\n",
       "    </tr>\n",
       "    <tr>\n",
       "      <th>Sample_4</th>\n",
       "      <td>0.782178</td>\n",
       "      <td>0.777399</td>\n",
       "      <td>0.716106</td>\n",
       "      <td>0.761243</td>\n",
       "    </tr>\n",
       "    <tr>\n",
       "      <th>Sample_5</th>\n",
       "      <td>0.579500</td>\n",
       "      <td>0.598675</td>\n",
       "      <td>0.630500</td>\n",
       "      <td>0.614695</td>\n",
       "    </tr>\n",
       "    <tr>\n",
       "      <th>Sample_6</th>\n",
       "      <td>0.456734</td>\n",
       "      <td>0.451512</td>\n",
       "      <td>0.466977</td>\n",
       "      <td>0.467309</td>\n",
       "    </tr>\n",
       "  </tbody>\n",
       "</table>\n",
       "</div>"
      ],
      "text/plain": [
       "           Ridge_top100  MLP_top100  RFR_top30  MLP_top30\n",
       "Sample ID                                                \n",
       "Sample_1       0.877812    0.893113   0.911913   0.920209\n",
       "Sample_2       0.667252    0.703523   0.680491   0.729512\n",
       "Sample_3       0.888481    0.842372   0.881929   0.892949\n",
       "Sample_4       0.782178    0.777399   0.716106   0.761243\n",
       "Sample_5       0.579500    0.598675   0.630500   0.614695\n",
       "Sample_6       0.456734    0.451512   0.466977   0.467309"
      ]
     },
     "execution_count": 14,
     "metadata": {},
     "output_type": "execute_result"
    }
   ],
   "source": [
    "pd.DataFrame(data=[Ridge_top100_purity, MLP_top100_purity, RFR_top30_purity, MLP_top30_purity],\n",
    "             index=['Ridge_top100', 'MLP_top100', 'RFR_top30', 'MLP_top30'],\n",
    "             columns=example_data_top100.index).T"
   ]
  },
  {
   "cell_type": "code",
   "execution_count": null,
   "metadata": {},
   "outputs": [],
   "source": []
  }
 ],
 "metadata": {
  "kernelspec": {
   "display_name": "Python 3",
   "language": "python",
   "name": "python3"
  },
  "language_info": {
   "codemirror_mode": {
    "name": "ipython",
    "version": 3
   },
   "file_extension": ".py",
   "mimetype": "text/x-python",
   "name": "python",
   "nbconvert_exporter": "python",
   "pygments_lexer": "ipython3",
   "version": "3.8.5"
  }
 },
 "nbformat": 4,
 "nbformat_minor": 4
}
